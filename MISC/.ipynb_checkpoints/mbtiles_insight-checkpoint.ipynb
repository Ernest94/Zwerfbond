{
 "cells": [
  {
   "cell_type": "code",
   "execution_count": 11,
   "metadata": {},
   "outputs": [],
   "source": [
    "import sqlite3\n",
    "import requests\n",
    "from kivy.network.urlrequest import UrlRequest"
   ]
  },
  {
   "cell_type": "code",
   "execution_count": 5,
   "metadata": {},
   "outputs": [],
   "source": [
    "DATABASE = '../APP/map_data_Pt_2022.mbtiles'\n",
    "db = sqlite3.connect(DATABASE)"
   ]
  },
  {
   "cell_type": "code",
   "execution_count": 6,
   "metadata": {},
   "outputs": [
    {
     "name": "stdout",
     "output_type": "stream",
     "text": [
      "[('metadata',), ('route_coordinates',), ('tiles',)]\n"
     ]
    }
   ],
   "source": [
    "##PRINT ALL TABLE NAMES SQLITE DATABASE\n",
    "c = db.cursor()\n",
    "results = c.execute(\"SELECT name FROM sqlite_master WHERE type = 'table' AND name NOT LIKE 'sqlite_%' ORDER BY 1;\")\n",
    "all_tables = results.fetchall()\n",
    "c.close()\n",
    "print(all_tables)"
   ]
  },
  {
   "cell_type": "code",
   "execution_count": 9,
   "metadata": {},
   "outputs": [
    {
     "name": "stdout",
     "output_type": "stream",
     "text": [
      "[('name', 'Paastocht 2022'), ('bounds', '5.498005,50.070105,5.765014,50.1995064'), ('description', ''), ('format', 'png'), ('maxzoom', '16'), ('minzoom', '12'), ('version', '1'), ('type', 'overlay'), ('days', 'dag 1, dag 2, dag 3, dag 4 (4 daagse), dag 4 (6 daagse), dag 5, dag 6')]\n"
     ]
    }
   ],
   "source": [
    "c = db.cursor()\n",
    "sql = \"SELECT * FROM metadata\"\n",
    "c.execute(sql)\n",
    "result = c.fetchall()\n",
    "c.close()\n",
    "print(result)"
   ]
  },
  {
   "cell_type": "code",
   "execution_count": 19,
   "metadata": {},
   "outputs": [],
   "source": [
    "url = 'http://192.168.178.19:5000/get_mbtiles'\n",
    "\n",
    "response = requests.get(url)\n",
    "\n",
    "# To save to a relative path.\n",
    "with open('map_data_downloaded.mbtiles', 'wb') as f:\n",
    "    f.write(response.content)        "
   ]
  },
  {
   "cell_type": "code",
   "execution_count": null,
   "metadata": {},
   "outputs": [],
   "source": []
  },
  {
   "cell_type": "code",
   "execution_count": null,
   "metadata": {},
   "outputs": [],
   "source": [
    "\n",
    "\n",
    "db.commit()\n",
    "db.close()"
   ]
  }
 ],
 "metadata": {
  "kernelspec": {
   "display_name": "Python 3",
   "language": "python",
   "name": "python3"
  },
  "language_info": {
   "codemirror_mode": {
    "name": "ipython",
    "version": 3
   },
   "file_extension": ".py",
   "mimetype": "text/x-python",
   "name": "python",
   "nbconvert_exporter": "python",
   "pygments_lexer": "ipython3",
   "version": "3.7.4"
  }
 },
 "nbformat": 4,
 "nbformat_minor": 2
}
