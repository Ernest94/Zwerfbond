{
 "cells": [
  {
   "cell_type": "code",
   "execution_count": 1,
   "id": "796516c4",
   "metadata": {},
   "outputs": [
    {
     "name": "stdout",
     "output_type": "stream",
     "text": [
      "Downloading 1gGHL-DTYzS25GoBYbxl04fQ5gfWIGAbZ into ./data/map_data.zip... Done.\n",
      "Unzipping..."
     ]
    },
    {
     "name": "stderr",
     "output_type": "stream",
     "text": [
      "/Users/ernestjanssen/opt/anaconda3/lib/python3.9/site-packages/google_drive_downloader/google_drive_downloader.py:78: UserWarning: Ignoring `unzip` since \"1gGHL-DTYzS25GoBYbxl04fQ5gfWIGAbZ\" does not look like a valid zip file\n",
      "  warnings.warn('Ignoring `unzip` since \"{}\" does not look like a valid zip file'.format(file_id))\n"
     ]
    }
   ],
   "source": [
    "from google_drive_downloader import GoogleDriveDownloader as gdd\n",
    "\n",
    "gdd.download_file_from_google_drive(file_id='1gGHL-DTYzS25GoBYbxl04fQ5gfWIGAbZ',\n",
    "                                    dest_path='./data/map_data.mbtiles')"
   ]
  },
  {
   "cell_type": "code",
   "execution_count": null,
   "id": "9cb55131",
   "metadata": {},
   "outputs": [],
   "source": []
  }
 ],
 "metadata": {
  "kernelspec": {
   "display_name": "Python 3 (ipykernel)",
   "language": "python",
   "name": "python3"
  },
  "language_info": {
   "codemirror_mode": {
    "name": "ipython",
    "version": 3
   },
   "file_extension": ".py",
   "mimetype": "text/x-python",
   "name": "python",
   "nbconvert_exporter": "python",
   "pygments_lexer": "ipython3",
   "version": "3.9.13"
  }
 },
 "nbformat": 4,
 "nbformat_minor": 5
}
