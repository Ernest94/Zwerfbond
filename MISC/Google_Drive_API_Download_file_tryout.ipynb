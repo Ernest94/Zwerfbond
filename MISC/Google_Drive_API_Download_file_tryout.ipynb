{
 "cells": [
  {
   "cell_type": "code",
   "execution_count": 2,
   "id": "6cff40f0",
   "metadata": {},
   "outputs": [],
   "source": [
    "file_id = \"1gGHL-DTYzS25GoBYbxl04fQ5gfWIGAbZ\"\n",
    "CHUNK_SIZE = 32768\n",
    "DOWNLOAD_URL = 'https://docs.google.com/uc?export=download'"
   ]
  },
  {
   "cell_type": "code",
   "execution_count": 2,
   "id": "796516c4",
   "metadata": {},
   "outputs": [
    {
     "name": "stdout",
     "output_type": "stream",
     "text": [
      "Downloading 1gGHL-DTYzS25GoBYbxl04fQ5gfWIGAbZ into ./data/map_data.mbtiles... Done.\n"
     ]
    }
   ],
   "source": [
    "from google_drive_downloader import GoogleDriveDownloader as gdd\n",
    "\n",
    "gdd.download_file_from_google_drive(file_id='1gGHL-DTYzS25GoBYbxl04fQ5gfWIGAbZ',\n",
    "                                    dest_path='./data/map_data.mbtiles')"
   ]
  },
  {
   "cell_type": "code",
   "execution_count": 5,
   "id": "9cb55131",
   "metadata": {},
   "outputs": [
    {
     "name": "stdout",
     "output_type": "stream",
     "text": [
      "None\n"
     ]
    }
   ],
   "source": [
    "from kivy.network.urlrequest import UrlRequest\n",
    "\n",
    "params={'id': file_id}\n",
    "\n",
    "request = UrlRequest(DOWNLOAD_URL,req_body=params)\n",
    "# request.wait()\n",
    "print(request.result)"
   ]
  },
  {
   "cell_type": "code",
   "execution_count": null,
   "id": "d8b70a17",
   "metadata": {},
   "outputs": [],
   "source": []
  }
 ],
 "metadata": {
  "kernelspec": {
   "display_name": "Python 3 (ipykernel)",
   "language": "python",
   "name": "python3"
  },
  "language_info": {
   "codemirror_mode": {
    "name": "ipython",
    "version": 3
   },
   "file_extension": ".py",
   "mimetype": "text/x-python",
   "name": "python",
   "nbconvert_exporter": "python",
   "pygments_lexer": "ipython3",
   "version": "3.9.13"
  }
 },
 "nbformat": 4,
 "nbformat_minor": 5
}
