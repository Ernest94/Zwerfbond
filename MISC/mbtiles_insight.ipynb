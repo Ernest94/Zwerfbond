{
 "cells": [
  {
   "cell_type": "code",
   "execution_count": 1,
   "metadata": {},
   "outputs": [
    {
     "name": "stderr",
     "output_type": "stream",
     "text": [
      "[WARNING] [Config      ] Older configuration version detected (24 instead of 21)\n",
      "[WARNING] [Config      ] Upgrading configuration in progress.\n",
      "[INFO   ] [Logger      ] Record log in /Users/ernestjanssen/.kivy/logs/kivy_22-09-12_0.txt\n",
      "[INFO   ] [Kivy        ] v1.11.1\n",
      "[INFO   ] [Kivy        ] Installed at \"/opt/anaconda3/lib/python3.7/site-packages/kivy/__init__.py\"\n",
      "[INFO   ] [Python      ] v3.7.4 (default, Aug 13 2019, 15:17:50) \n",
      "[Clang 4.0.1 (tags/RELEASE_401/final)]\n",
      "[INFO   ] [Python      ] Interpreter at \"/opt/anaconda3/bin/python\"\n"
     ]
    }
   ],
   "source": [
    "import sqlite3\n",
    "import requests\n",
    "from kivy.network.urlrequest import UrlRequest"
   ]
  },
  {
   "cell_type": "code",
   "execution_count": 5,
   "metadata": {},
   "outputs": [],
   "source": [
    "DATABASE = '../APP/map_data_Pt_2022.mbtiles'\n",
    "db = sqlite3.connect(DATABASE)"
   ]
  },
  {
   "cell_type": "code",
   "execution_count": 6,
   "metadata": {},
   "outputs": [
    {
     "name": "stdout",
     "output_type": "stream",
     "text": [
      "[('metadata',), ('route_coordinates',), ('tiles',)]\n"
     ]
    }
   ],
   "source": [
    "##PRINT ALL TABLE NAMES SQLITE DATABASE\n",
    "c = db.cursor()\n",
    "results = c.execute(\"SELECT name FROM sqlite_master WHERE type = 'table' AND name NOT LIKE 'sqlite_%' ORDER BY 1;\")\n",
    "all_tables = results.fetchall()\n",
    "c.close()\n",
    "print(all_tables)"
   ]
  },
  {
   "cell_type": "code",
   "execution_count": 9,
   "metadata": {},
   "outputs": [
    {
     "name": "stdout",
     "output_type": "stream",
     "text": [
      "[('name', 'Paastocht 2022'), ('bounds', '5.498005,50.070105,5.765014,50.1995064'), ('description', ''), ('format', 'png'), ('maxzoom', '16'), ('minzoom', '12'), ('version', '1'), ('type', 'overlay'), ('days', 'dag 1, dag 2, dag 3, dag 4 (4 daagse), dag 4 (6 daagse), dag 5, dag 6')]\n"
     ]
    }
   ],
   "source": [
    "c = db.cursor()\n",
    "sql = \"SELECT * FROM metadata\"\n",
    "c.execute(sql)\n",
    "result = c.fetchall()\n",
    "c.close()\n",
    "print(result)"
   ]
  },
  {
   "cell_type": "code",
   "execution_count": 19,
   "metadata": {},
   "outputs": [],
   "source": [
    "url = 'http://192.168.178.19:5000/get_mbtiles'\n",
    "\n",
    "response = requests.get(url)\n",
    "\n",
    "# To save to a relative path.\n",
    "with open('map_data_downloaded.mbtiles', 'wb') as f:\n",
    "    f.write(response.content)        "
   ]
  },
  {
   "cell_type": "code",
   "execution_count": 4,
   "metadata": {},
   "outputs": [
    {
     "name": "stdout",
     "output_type": "stream",
     "text": [
      "Paastocht 2022\n"
     ]
    }
   ],
   "source": [
    "url = 'http://192.168.178.19:5000/get_mbtiles_name'\n",
    "request = UrlRequest(url)\n",
    "request.wait()\n",
    "print(request.result)"
   ]
  },
  {
   "cell_type": "code",
   "execution_count": null,
   "metadata": {},
   "outputs": [],
   "source": [
    "\n",
    "\n",
    "db.commit()\n",
    "db.close()"
   ]
  }
 ],
 "metadata": {
  "kernelspec": {
   "display_name": "Python 3",
   "language": "python",
   "name": "python3"
  },
  "language_info": {
   "codemirror_mode": {
    "name": "ipython",
    "version": 3
   },
   "file_extension": ".py",
   "mimetype": "text/x-python",
   "name": "python",
   "nbconvert_exporter": "python",
   "pygments_lexer": "ipython3",
   "version": "3.7.4"
  }
 },
 "nbformat": 4,
 "nbformat_minor": 2
}
