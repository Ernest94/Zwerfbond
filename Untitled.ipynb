{
 "cells": [
  {
   "cell_type": "code",
   "execution_count": 2,
   "metadata": {},
   "outputs": [],
   "source": [
    "import sqlite3;\n",
    "\n",
    "database_paastocht = \"/Users/ernestjanssen/Zwerfbond/Paastocht/2022/map_data_2022.mbtiles\"\n",
    "database_HH = \"/Users/ernestjanssen/Zwerfbond/Hemelse Hike/2022/map_data_HH_2022.mbtiles\""
   ]
  },
  {
   "cell_type": "code",
   "execution_count": 24,
   "metadata": {},
   "outputs": [],
   "source": [
    "db_mbtiles = sqlite3.connect(database_paastocht)\n",
    "c_mbtiles = db_mbtiles.cursor()\n",
    "sql = \"SELECT * FROM 'metadata' WHERE name = ?\"\n",
    "value = ('days', )\n",
    "c_mbtiles.execute(sql,value)\n",
    "myresult = c_mbtiles.fetchall()\n",
    "db_mbtiles.close()"
   ]
  },
  {
   "cell_type": "code",
   "execution_count": 25,
   "metadata": {},
   "outputs": [
    {
     "ename": "IndexError",
     "evalue": "list index out of range",
     "output_type": "error",
     "traceback": [
      "\u001b[0;31m---------------------------------------------------------------------------\u001b[0m",
      "\u001b[0;31mIndexError\u001b[0m                                Traceback (most recent call last)",
      "\u001b[0;32m<ipython-input-25-9b4a6c294160>\u001b[0m in \u001b[0;36m<module>\u001b[0;34m\u001b[0m\n\u001b[1;32m      1\u001b[0m \u001b[0;31m# print(bbox[3])\u001b[0m\u001b[0;34m\u001b[0m\u001b[0;34m\u001b[0m\u001b[0;34m\u001b[0m\u001b[0m\n\u001b[0;32m----> 2\u001b[0;31m \u001b[0mprint\u001b[0m\u001b[0;34m(\u001b[0m\u001b[0mmyresult\u001b[0m\u001b[0;34m[\u001b[0m\u001b[0;36m0\u001b[0m\u001b[0;34m]\u001b[0m\u001b[0;34m[\u001b[0m\u001b[0;36m1\u001b[0m\u001b[0;34m]\u001b[0m\u001b[0;34m.\u001b[0m\u001b[0msplit\u001b[0m\u001b[0;34m(\u001b[0m\u001b[0;34m','\u001b[0m\u001b[0;34m)\u001b[0m\u001b[0;34m)\u001b[0m\u001b[0;34m\u001b[0m\u001b[0;34m\u001b[0m\u001b[0m\n\u001b[0m\u001b[1;32m      3\u001b[0m \u001b[0;31m# bbox = myresult[0][1].split(',')\u001b[0m\u001b[0;34m\u001b[0m\u001b[0;34m\u001b[0m\u001b[0;34m\u001b[0m\u001b[0m\n\u001b[1;32m      4\u001b[0m \u001b[0;31m# print(bbox)\u001b[0m\u001b[0;34m\u001b[0m\u001b[0;34m\u001b[0m\u001b[0;34m\u001b[0m\u001b[0m\n\u001b[1;32m      5\u001b[0m \u001b[0;31m# x = 49.2364\u001b[0m\u001b[0;34m\u001b[0m\u001b[0;34m\u001b[0m\u001b[0;34m\u001b[0m\u001b[0m\n",
      "\u001b[0;31mIndexError\u001b[0m: list index out of range"
     ]
    }
   ],
   "source": [
    "# print(bbox[3])\n",
    "print(myresult[0][1].split(','))\n",
    "# bbox = myresult[0][1].split(',')\n",
    "# print(bbox)\n",
    "# x = 49.2364\n",
    "# print(type(x))\n",
    "\n",
    "# print(x<float(bbox[1]))"
   ]
  },
  {
   "cell_type": "code",
   "execution_count": null,
   "metadata": {},
   "outputs": [],
   "source": [
    "db_mbtiles = sqlite3.connect(database)\n",
    "c_mbtiles = db_mbtiles.cursor()\n",
    "sql = \"SELECT name FROM sqlite_master WHERE type = 'table' AND name NOT LIKE 'sqlite_%' ORDER BY 1;\"\n",
    "c_mbtiles.execute(sql)\n",
    "myresult = c_mbtiles.fetchall()\n",
    "db_mbtiles.close()\n",
    "print(myresult)"
   ]
  },
  {
   "cell_type": "code",
   "execution_count": null,
   "metadata": {},
   "outputs": [],
   "source": [
    "db_mbtiles = sqlite3.connect(database_paastocht)\n",
    "c_mbtiles = db_mbtiles.cursor()\n",
    "sql = \"SELECT name FROM PRAGMA_TABLE_INFO('metadata');\"\n",
    "c_mbtiles.execute(sql)\n",
    "myresult = c_mbtiles.fetchall()\n",
    "db_mbtiles.close()\n",
    "print(myresult[0])"
   ]
  },
  {
   "cell_type": "code",
   "execution_count": null,
   "metadata": {},
   "outputs": [],
   "source": [
    "db_mbtiles = sqlite3.connect(database_HH)\n",
    "c_mbtiles = db_mbtiles.cursor()\n",
    "sql = \"UPDATE metadata SET value = 'Hemelse Hike 2022' WHERE name = ?\"\n",
    "value = ('name',)\n",
    "c_mbtiles.execute(sql,value)\n",
    "db_mbtiles.commit()\n",
    "print(\"Total number of rows updated :\", db_mbtiles.total_changes)\n",
    "myresult = c_mbtiles.fetchall()\n",
    "db_mbtiles.close()\n",
    "print(myresult)"
   ]
  },
  {
   "cell_type": "code",
   "execution_count": null,
   "metadata": {},
   "outputs": [],
   "source": [
    "db_mbtiles = sqlite3.connect(database_HH)\n",
    "c_mbtiles = db_mbtiles.cursor()\n",
    "sql = \"SELECT * FROM metadata\"\n",
    "c_mbtiles.execute(sql)\n",
    "\n",
    "myresult = c_mbtiles.fetchall()\n",
    "db_mbtiles.close()\n",
    "print(myresult)"
   ]
  },
  {
   "cell_type": "code",
   "execution_count": 37,
   "metadata": {},
   "outputs": [
    {
     "name": "stdout",
     "output_type": "stream",
     "text": [
      "[]\n"
     ]
    }
   ],
   "source": [
    "DAYS_HH = \"dag 1, dag 2 (afkorting), dag 2, dag 3, dag 4\"\n",
    "DAYS_paastocht = \"dag 1, dag 2, dag 3, dag 4 (4 daagse), dag 4 (6 daagse), dag 5, dag 6\"\n",
    "\n",
    "db_mbtiles = sqlite3.connect(database_HH)\n",
    "c_mbtiles = db_mbtiles.cursor()\n",
    "sql = \"INSERT INTO metadata (name,value) VALUES ('days', ?);\"\n",
    "value = (DAYS_HH,)\n",
    "c_mbtiles.execute(sql,value)\n",
    "db_mbtiles.commit()\n",
    "myresult = c_mbtiles.fetchall()\n",
    "db_mbtiles.close()\n",
    "print(myresult)\n",
    "\n"
   ]
  },
  {
   "cell_type": "code",
   "execution_count": 38,
   "metadata": {},
   "outputs": [
    {
     "name": "stdout",
     "output_type": "stream",
     "text": [
      "['dag 1', 'dag 2 (afkorting)', 'dag 2', 'dag 3', 'dag 4']\n"
     ]
    }
   ],
   "source": [
    "db_mbtiles = sqlite3.connect(database_HH)\n",
    "c_mbtiles = db_mbtiles.cursor()\n",
    "sql = \"SELECT * FROM 'metadata' WHERE name = ?\"\n",
    "value = ('days', )\n",
    "c_mbtiles.execute(sql,value)\n",
    "myresult = c_mbtiles.fetchall()\n",
    "db_mbtiles.close()\n",
    "print(myresult[0][1].split(', '))"
   ]
  },
  {
   "cell_type": "code",
   "execution_count": 36,
   "metadata": {},
   "outputs": [
    {
     "name": "stdout",
     "output_type": "stream",
     "text": [
      "[]\n"
     ]
    }
   ],
   "source": [
    "db_mbtiles = sqlite3.connect(database_HH)\n",
    "c_mbtiles = db_mbtiles.cursor()\n",
    "sql = \"DELETE FROM metadata WHERE name=?\"\n",
    "value=(\"days\",)\n",
    "c_mbtiles.execute(sql,value)\n",
    "db_mbtiles.commit()\n",
    "\n",
    "myresult = c_mbtiles.fetchall()\n",
    "db_mbtiles.close()\n",
    "print(myresult)"
   ]
  },
  {
   "cell_type": "code",
   "execution_count": 8,
   "metadata": {},
   "outputs": [
    {
     "data": {
      "text/plain": [
       "list"
      ]
     },
     "execution_count": 8,
     "metadata": {},
     "output_type": "execute_result"
    }
   ],
   "source": [
    "DAYS = [\"dag 1\",\"dag 2\",\"dag 3\",\"dag 4 (4 daagse)\",\"dag 4 (6 daagse)\",\"dag 5\",\"dag 6\"]\n"
   ]
  },
  {
   "cell_type": "code",
   "execution_count": null,
   "metadata": {},
   "outputs": [],
   "source": []
  }
 ],
 "metadata": {
  "kernelspec": {
   "display_name": "Python 3",
   "language": "python",
   "name": "python3"
  },
  "language_info": {
   "codemirror_mode": {
    "name": "ipython",
    "version": 3
   },
   "file_extension": ".py",
   "mimetype": "text/x-python",
   "name": "python",
   "nbconvert_exporter": "python",
   "pygments_lexer": "ipython3",
   "version": "3.7.4"
  }
 },
 "nbformat": 4,
 "nbformat_minor": 2
}
