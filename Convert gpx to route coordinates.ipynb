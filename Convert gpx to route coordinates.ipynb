{
 "cells": [
  {
   "cell_type": "code",
   "execution_count": null,
   "metadata": {},
   "outputs": [],
   "source": [
    "!pip install gpxpy"
   ]
  },
  {
   "cell_type": "code",
   "execution_count": 1,
   "metadata": {},
   "outputs": [
    {
     "name": "stdout",
     "output_type": "stream",
     "text": [
      "<?xml version=\"1.0\" encoding=\"UTF-8\" standalone=\"no\" ?>\n",
      "<gpx xmlns=\"http://www.topografix.com/GPX/1/1\" xmlns:gpxx=\"http://www.garmin.com/xmlschemas/GpxExtensions/v3\" xmlns:gpxtpx=\"http://www.garmin.com/xmlschemas/TrackPointExtension/v1\" creator=\"mapstogpx.com\" version=\"1.1\" xmlns:xsi=\"http://www.w3.org/2001/XMLSchema-instance\" xsi:schemaLocation=\"http://www.topografix.com/GPX/1/1 http://www.topografix.com/GPX/1/1/gpx.xsd http://www.garmin.com/xmlschemas/GpxExtensions/v3 http://www.garmin.com/xmlschemas/GpxExtensionsv3.xsd http://www.garmin.com/xmlschemas/TrackPointExtension/v1 http://www.garmin.com/xmlschemas/TrackPointExtensionv1.xsd\">\n",
      "  <metadata>\n",
      "    <link href=\"http://www.mapstogpx.com\">\n",
      "      <text>Sverrir Sigmundarson</text>\n",
      "    </link>\n",
      "    <!--desc>Map data ©2024 Google</desc-->\n",
      "    <!--copyright author=\"Google Inc\">\n",
      "    \t<year>2024</year>\n",
      "    \t<license>https://developers.google.com/maps/terms</license>\n",
      "    </copyright-->\n",
      "    <!--url>https://www.google.co.uk/maps/dir/52.0867188,4.3436021/Stuyvesantstraat 130, 2593 GP Den Haag/@52.0855806,4.3431293,17.78z/data=!4m9!4m8!1m0!1m5!1m1!1s0x47c5b70bc402d843:0x7eb95d76d772ade1!2m2!1d4.343343!2d52.0858185!3e0?entry=ttu&utm_medium=s2email&shorturl=1&hl=en</url-->\n",
      "    <time>2024-01-04T18:57:18Z</time>\n",
      "  </metadata>\n",
      "  <wpt lat=\"52.0867188\" lon=\"4.3436021\">\n",
      "    <name>2593 GG Den Haag</name>\n",
      "    <desc>Stuyvesantstraat 225, 2593 GG Den Haag, Netherlands</desc>\n",
      "  </wpt>\n",
      "  <wpt lat=\"52.0858185\" lon=\"4.343343\">\n",
      "    <name>Stuyvesantstraat 130</name>\n",
      "    <desc>Stuyvesantstraat 130, 2593 GP Den Haag, Netherlands</desc>\n",
      "  </wpt>\n",
      "<trk>\n",
      "  <name>2593 GG Den Haag to Stuyvesantstraat 130</name>\n",
      "  <number>1</number>\n",
      "  <trkseg>\n",
      "  <trkpt lat=\"52.0867176\" lon=\"4.3436209\">\n",
      "    <name>TP001</name>\n",
      "  </trkpt>\n",
      "  <trkpt lat=\"52.08594\" lon=\"4.34349\">\n",
      "    <name>TP002</name>\n",
      "  </trkpt>\n",
      "  <trkpt lat=\"52.08581\" lon=\"4.34347\">\n",
      "    <name>TP003</name>\n",
      "  </trkpt>\n",
      "  <trkpt lat=\"52.0858105\" lon=\"4.3434737\">\n",
      "    <name>TP004</name>\n",
      "  </trkpt>\n",
      "  </trkseg>\n",
      "</trk>\n",
      "</gpx>\n"
     ]
    }
   ],
   "source": [
    "# data = open(\"/Users/ernestjanssen/Zwerfbond/Gpx routes Paastocht 2023/dag6_totaal.gpx\").read()\n",
    "# data = open(\"/Users/ernestjanssen/Zwerfbond/Gpx routes Hemelse Hike 2023/HEH23 dag 1 La Roche - Marcourt.gpx\").read()\n",
    "data = open(\"/Users/ernestjanssen/Downloads/DeSillestraatRoute.gpx\").read()\n",
    "# data = open(\"/Users/ernestjanssen/Downloads/Paastocht 2024 - gpx/drive-download-20240313T143729Z-001/1a vrijdag.gpx\").read()\n",
    "print(data)"
   ]
  },
  {
   "cell_type": "code",
   "execution_count": 2,
   "metadata": {},
   "outputs": [
    {
     "name": "stdout",
     "output_type": "stream",
     "text": [
      "{'dag 1': [4.3436209, 52.0867176, 4.34349, 52.08594, 4.34347, 52.08581, 4.3434737, 52.0858105]}\n",
      "[4.34347, 4.3436209, 52.08581, 52.0867176]\n",
      "[4.32347, 52.06581, 4.3636209, 52.1067176]\n"
     ]
    }
   ],
   "source": [
    "import gpxpy\n",
    "import gpxpy.gpx\n",
    "\n",
    "# gpx_files = [\"PT22 Dag 1.gpx\",\"2020 dag 2 11-01-20.gpx\",\"PT22 Dag 3.gpx\",\"PT22 Dag 4 (6 daagse) 1e.gpx\",\"PT22 dag 5 2e.gpx\",\"PT22 Dag 6 2e.gpx\",\"Routevoorstel PT22 dag 4(4daagse)1e.gpx\"]\n",
    "# days = [\"dag 1\",\"dag 2\",\"dag 3\",\"dag 4 (6 daagse)\",\"dag 5\",\"dag 6\",\"dag 4 (4 daagse)\"]\n",
    "\n",
    "# gpx_files = [\"HEH23 dag 1 La Roche - Marcourt.gpx\",\"HEH23 dag 2 Marcourt - Melreux kort.gpx\",\"HEH23 dag 2 Marcourt - Melreux.gpx\",\"HEH23 dag 3 Melreux - Barvaux afsnijding 1.gpx\",\"HEH23 dag 3 Melreux - Barvaux afsnijding 2.gpx\",\"HEH23 dag 3 Melreux - Barvaux basis.gpx\",\"HEH23 dag 4 Barvaux - Palogne.gpx\",\"HeH23 dag 4 Palogne - Sy.gpx\"]\n",
    "# days = [\"dag 1\",\"dag 2 (afkorting)\",\"dag 2\",\"dag 3 (afkorting 1)\",\"dag 3 (afkorting 2)\",\"dag 3\",\"dag 4 (deel 1)\",\"dag 4 (deel 2)\"]\n",
    "\n",
    "# gpx_files = [\"dag1.gpx\",\"dag2.gpx\",\"dag3.gpx\",\"dag4_kort.gpx\",\"dag4_lang.gpx\",\"dag5.gpx\",\"dag6_totaal.gpx\"]\n",
    "# days = [\"dag 1\",\"dag 2\",\"dag 3\",\"dag 4 (4 daagse)\",\"dag 4 (6 daagse)\",\"dag 5\",\"dag 6\"]\n",
    "\n",
    "# gpx_files = [\"1a vrijdag.gpx\",\"2a zaterdag.gpx\",\"3 zondag (Eifelsteig).gpx\",\"3 zondag.gpx\",\"4a maandag - deel 1.gpx\",\"4a maandag - deel 2.gpx\",\"5 dinsdag.gpx\",\"6b woensdag.gpx\"]\n",
    "# days = [\"dag 1\",\"dag 2\",\"dag 3 (Eifelsteig)\",\"dag 3\",\"dag 4 (deel 1)\",\"dag 4 (deel 2)\",\"dag 5\",\"dag 6\"]\n",
    "\n",
    "gpx_files = [\"DeSillestraatRoute.gpx\"]\n",
    "days = [\"dag 1\"]\n",
    "\n",
    "route_boundaries = [0]*4 #[min_lon, max_lon, min_lat, max_lat]\n",
    "route_coordinates = {}\n",
    "i=0\n",
    "for index,gpx_file in enumerate(gpx_files):\n",
    "#     gpx_file = open(\"/Users/ernestjanssen/Downloads/Paastocht 2024 - gpx/drive-download-20240313T143729Z-001/\"+gpx_file, 'r')\n",
    "    gpx_file = open(\"/Users/ernestjanssen/Downloads/\"+gpx_file, 'r')\n",
    "    gpx = gpxpy.parse(gpx_file)\n",
    "    coordinates_list = []\n",
    "    for track in gpx.tracks:\n",
    "        for segment in track.segments:\n",
    "            for point in segment.points:\n",
    "                if i==0:\n",
    "                    route_boundaries = [point.longitude,point.longitude,point.latitude,point.latitude]\n",
    "                    i+=1\n",
    "                coordinates_list.append(point.longitude)\n",
    "                coordinates_list.append(point.latitude)\n",
    "                if route_boundaries[0]>point.longitude:\n",
    "                    route_boundaries[0]=point.longitude\n",
    "                if route_boundaries[1]<point.longitude:\n",
    "                    route_boundaries[1]=point.longitude\n",
    "                if route_boundaries[2]>point.latitude:\n",
    "                    route_boundaries[2]=point.latitude\n",
    "                if route_boundaries[3]<point.latitude:\n",
    "                    route_boundaries[3]=point.latitude      \n",
    "                \n",
    "    route_coordinates[days[index]] = coordinates_list\n",
    "\n",
    "print(route_coordinates)\n",
    "print(route_boundaries)\n",
    "map_boundaries = [0]*4 #[min_lon, max_lon, min_lat, max_lat]\n",
    "map_boundaries[0] = route_boundaries[0]-0.02\n",
    "map_boundaries[1] = route_boundaries[2]-0.02\n",
    "map_boundaries[2] = route_boundaries[1]+0.02\n",
    "map_boundaries[3] = route_boundaries[3]+0.02\n",
    "print(map_boundaries)\n",
    "\n",
    "# map_boundaries_sorted = [0]*4 #[min_lon, min_lat, max_lon, max_lat]\n",
    "# map_boundaries_sorted[0] = map_boundaries[0]\n",
    "# map_boundaries_sorted[1] = map_boundaries[2]\n",
    "# map_boundaries_sorted[2] = map_boundaries[1]\n",
    "# map_boundaries_sorted[3] = map_boundaries[3]\n",
    "# print(map_boundaries)\n"
   ]
  },
  {
   "cell_type": "markdown",
   "metadata": {},
   "source": [
    "**--------------------------**\n",
    "**Download nu de OpenTopo kaart met bovenstaande bbox met het xyz-to-mbtiles nodeJS programma!**\n",
    "**--------------------------**\n",
    "\n"
   ]
  },
  {
   "cell_type": "code",
   "execution_count": 3,
   "metadata": {},
   "outputs": [],
   "source": [
    "## Create route_coordinates table in mbtiles database\n",
    "\n",
    "import sqlite3\n",
    "\n",
    "# filename = \"/Users/ernestjanssen/Zwerfbond/paastocht2023.mbtiles\"\n",
    "filename = \"/Users/ernestjanssen/Zwerfbond/APP/map_data_downloaded.mbtiles\"\n",
    "# filename = \"/Users/ernestjanssen/xyz-to-mbtiles-master/gps_tryout.mbtiles\"\n",
    "\n",
    "db_mbtiles = sqlite3.connect(filename)\n",
    "c_mbtiles = db_mbtiles.cursor()\n",
    "c_mbtiles.execute(\"CREATE TABLE IF NOT EXISTS `route_coordinates` (`day` varchar(20) NOT NULL, `coordinate_string` blob NOT NULL)\")\n",
    "\n",
    "for day in days:\n",
    "    sql = \"INSERT INTO route_coordinates (day,coordinate_string) VALUES (?,?)\"\n",
    "    val = (day,bytes(str(route_coordinates[day]),'utf-8'))\n",
    "    c_mbtiles.execute(sql,val)\n",
    "    \n",
    "c_mbtiles.close()\n",
    "db_mbtiles.commit()\n",
    "db_mbtiles.close()"
   ]
  },
  {
   "cell_type": "code",
   "execution_count": 4,
   "metadata": {},
   "outputs": [
    {
     "name": "stdout",
     "output_type": "stream",
     "text": [
      "Total number of rows updated : 1\n",
      "[]\n"
     ]
    }
   ],
   "source": [
    "##Define tour name in metadata of mbtiles database; f.e. \"Paastocht 2022\" of \"Hemelse Hike 2022\"\n",
    "\n",
    "# tour_name = 'Paastocht 2024'\n",
    "# tour_name = 'GPS tryout'\n",
    "# tour_name = 'Hemelse Hike 2023'\n",
    "# tour_name = 'Werkspoorkathedraal'\n",
    "tour_name = 'Bezuidenhout'\n",
    "\n",
    "db_mbtiles = sqlite3.connect(filename)\n",
    "c_mbtiles = db_mbtiles.cursor()\n",
    "sql = f\"UPDATE metadata SET value = '{tour_name}' WHERE name = ?\"\n",
    "value = ('name',)\n",
    "c_mbtiles.execute(sql,value)\n",
    "db_mbtiles.commit()\n",
    "print(\"Total number of rows updated :\", db_mbtiles.total_changes)\n",
    "myresult = c_mbtiles.fetchall()\n",
    "db_mbtiles.close()\n",
    "print(myresult)"
   ]
  },
  {
   "cell_type": "code",
   "execution_count": 5,
   "metadata": {},
   "outputs": [],
   "source": [
    "##Define the days of the tour in the metadata of the mbtiles database\n",
    "\n",
    "days_sql = str()\n",
    "for day in days:\n",
    "    days_sql+=day + \", \"\n",
    "days_sql = days_sql.rstrip(\", \")\n",
    "\n",
    "db_mbtiles = sqlite3.connect(filename)\n",
    "c_mbtiles = db_mbtiles.cursor()\n",
    "sql = \"INSERT INTO metadata (name,value) VALUES ('days', ?);\"\n",
    "value = (days_sql,)\n",
    "c_mbtiles.execute(sql,value)\n",
    "db_mbtiles.commit()\n",
    "myresult = c_mbtiles.fetchall()\n",
    "db_mbtiles.close()"
   ]
  },
  {
   "cell_type": "code",
   "execution_count": null,
   "metadata": {},
   "outputs": [],
   "source": []
  }
 ],
 "metadata": {
  "kernelspec": {
   "display_name": "Python 3 (ipykernel)",
   "language": "python",
   "name": "python3"
  },
  "language_info": {
   "codemirror_mode": {
    "name": "ipython",
    "version": 3
   },
   "file_extension": ".py",
   "mimetype": "text/x-python",
   "name": "python",
   "nbconvert_exporter": "python",
   "pygments_lexer": "ipython3",
   "version": "3.10.8"
  }
 },
 "nbformat": 4,
 "nbformat_minor": 2
}
